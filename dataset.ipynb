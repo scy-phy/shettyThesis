{
 "cells": [
  {
   "cell_type": "markdown",
   "metadata": {},
   "source": [
    "Dataset Generation and Preprocessing"
   ]
  },
  {
   "cell_type": "code",
   "execution_count": null,
   "metadata": {},
   "outputs": [],
   "source": [
    "#### These steps are specific to my targted NIDS and might vary depending on your targeted NIDS. "
   ]
  },
  {
   "cell_type": "code",
   "execution_count": 9,
   "metadata": {},
   "outputs": [],
   "source": [
    "import pandas as pd\n",
    "import subprocess"
   ]
  },
  {
   "cell_type": "code",
   "execution_count": null,
   "metadata": {},
   "outputs": [
    {
     "name": "stdout",
     "output_type": "stream",
     "text": [
      "Identical rows with data and indices extracted to 'identical_rows_with_data_and_indices.csv'\n"
     ]
    }
   ],
   "source": [
    "# Get identical rows from both A1 and A2\n",
    "\n",
    "# Load the CSV files\n",
    "file1 = 'notifications_inbox_A1.csv'  \n",
    "file2 = 'notifications_inbox_A2.csv'  \n",
    "\n",
    "# Read the CSV files into DataFrames\n",
    "df1 = pd.read_csv(file1)\n",
    "df2 = pd.read_csv(file2)\n",
    "\n",
    "# Save the 'FirstOccurrence' column to variables before dropping it\n",
    "first_occurrence_df1 = df1['FirstOccurrence'] if 'FirstOccurrence' in df1.columns else None\n",
    "first_occurrence_df2 = df2['FirstOccurrence'] if 'FirstOccurrence' in df2.columns else None\n",
    "\n",
    "# Adjust the index of FirstOccurrence to start from 1 (if FirstOccurrence exists)\n",
    "if first_occurrence_df1 is not None:\n",
    "    first_occurrence_df1.index = first_occurrence_df1.index + 2\n",
    "if first_occurrence_df2 is not None:\n",
    "    first_occurrence_df2.index = first_occurrence_df2.index + 2\n",
    "\n",
    "# Drop the specified columns\n",
    "columns_to_drop = ['FirstOccurrence', 'Count', 'RiskScore', 'LastOccurrence', 'PCAPName']\n",
    "df1.drop(columns=columns_to_drop, inplace=True, errors='ignore')\n",
    "df2.drop(columns=columns_to_drop, inplace=True, errors='ignore')\n",
    "\n",
    "# Add a new column to each DataFrame to store the original index\n",
    "df1[file1] = df1.index + 2\n",
    "df2[file2] = df2.index + 2\n",
    "\n",
    "# Drop the specified columns from both DataFrames\n",
    "df_A1_dropped = df1\n",
    "df_A2_dropped = df2\n",
    "\n",
    "# Find identical rows\n",
    "identical_rows = pd.merge(df1, df2, how='inner')\n",
    "\n",
    "# Combine index columns with data from both files\n",
    "identical_rows_with_indices = identical_rows.copy()\n",
    "\n",
    "# Renaming the index columns for clarity\n",
    "identical_rows_with_indices.rename(columns={\n",
    "    file1: file1,\n",
    "    file2: file2\n",
    "}, inplace=True)\n",
    "\n",
    "# Output the identical rows with indices to a new CSV file\n",
    "identical_rows_with_indices.to_csv('identical_rows_with_data_and_indices.csv', index=False)\n",
    "\n",
    "# Save the cleaned DataFrames back to the original CSV files\n",
    "df_A1_dropped.to_csv(file1, index=False)\n",
    "df_A2_dropped.to_csv(file2, index=False)\n",
    "\n",
    "print(\"Identical rows with data and indices extracted to 'identical_rows_with_data_and_indices.csv'\")"
   ]
  },
  {
   "cell_type": "code",
   "execution_count": null,
   "metadata": {},
   "outputs": [
    {
     "name": "stdout",
     "output_type": "stream",
     "text": [
      "Missing rows from A2 have been written to 'Sheet2' in identical_rows_with_data_and_indices.xlsx\n"
     ]
    }
   ],
   "source": [
    "# Get identical rows from both A1 and A2\n",
    "\n",
    "# Load the CSV files\n",
    "file2 = 'notifications_inbox_A2.csv'  # Replace with your second CSV file name\n",
    "identical_rows_file = 'identical_rows_with_data_and_indices.csv'\n",
    "\n",
    "# Read the second CSV file (A2) and the identical rows file\n",
    "df2 = pd.read_csv(file2)\n",
    "identical_rows_with_indices = pd.read_csv(identical_rows_file)\n",
    "\n",
    "# Add a new column to store the original index\n",
    "df2[file2] = df2.index + 2\n",
    "\n",
    "# Get the indices in 'Index in File 2' column of identical_rows_with_data_and_indices.csv\n",
    "identical_indices_in_file2 = identical_rows_with_indices[file2].unique()\n",
    "\n",
    "# Find rows in A2 that are not present in 'Index in File 2'\n",
    "missing_rows = df2[~df2[file2].isin(identical_indices_in_file2)].copy()\n",
    "\n",
    "# Filter 'FirstOccurrence' values that match the missing rows based on the original index in A2\n",
    "if first_occurrence_df2 is not None:\n",
    "\n",
    "    # Get the matching 'FirstOccurrence' values using the missing rows' index\n",
    "    matching_first_occurrence = first_occurrence_df2.loc[missing_rows[file2]]\n",
    "\n",
    "    # Insert the 'FirstOccurrence' column as the first column in missing_rows\n",
    "    missing_rows.insert(0, 'FirstOccurrence', matching_first_occurrence)\n",
    "\n",
    "\n",
    "# Save the extracted data to a new Excel file if it doesn't exist\n",
    "output_excel_file = 'identical_rows_with_data_and_indices.xlsx'\n",
    "\n",
    "try:\n",
    "    # If the file exists, append to it and replace Sheet2 if it exists\n",
    "    with pd.ExcelWriter(output_excel_file, engine='openpyxl', mode='a', if_sheet_exists='replace') as writer:\n",
    "        missing_rows.to_excel(writer, sheet_name='Sheet2', index=False)\n",
    "except FileNotFoundError:\n",
    "    # If the file doesn't exist, create it with both sheets\n",
    "    with pd.ExcelWriter(output_excel_file, engine='openpyxl') as writer:\n",
    "        # Write the original identical rows data to the first sheet\n",
    "        identical_rows_with_indices.to_excel(writer, sheet_name='Sheet1', index=False)\n",
    "        # Write the missing rows to the second sheet\n",
    "        missing_rows.to_excel(writer, sheet_name='Sheet2', index=False)\n",
    "\n",
    "print(f\"Missing rows from A2 have been written to 'Sheet2' in {output_excel_file}\")"
   ]
  },
  {
   "cell_type": "code",
   "execution_count": null,
   "metadata": {},
   "outputs": [
    {
     "name": "stdout",
     "output_type": "stream",
     "text": [
      "Missing rows from A2 have been appended to notifications_inbox_A1.csv.\n"
     ]
    }
   ],
   "source": [
    "#Append missing rows from A2 to A1\n",
    "\n",
    "# Load the CSV files\n",
    "file1 = 'notifications_inbox_A1.csv'  # Replace with your first CSV file name\n",
    "file2 = 'notifications_inbox_A2.csv'  # Replace with your second CSV file name\n",
    "\n",
    "# Read the first CSV file (A1) and the second CSV file (A2)\n",
    "df1 = pd.read_csv(file1)\n",
    "df2 = pd.read_csv(file2)\n",
    "\n",
    "# Add a new column to store the original index in A2\n",
    "df2[file2] = df2.index + 2\n",
    "\n",
    "# Get the indices in file2 column of identical_rows_with_data_and_indices.csv\n",
    "identical_rows_file = 'identical_rows_with_data_and_indices.csv'\n",
    "identical_rows_with_indices = pd.read_csv(identical_rows_file)\n",
    "identical_indices_in_file2 = identical_rows_with_indices[file2].unique()\n",
    "\n",
    "# Find rows in A2 that are not present in file2\n",
    "missing_rows = df2[~df2[file2].isin(identical_indices_in_file2)].copy()\n",
    "\n",
    "# Drop the specified columns from the missing rows\n",
    "columns_to_drop = ['Count', 'RiskScore', 'LastOccurrence', 'PCAPName', 'notifications_inbox_A2.csv']\n",
    "missing_rows.drop(columns=columns_to_drop, inplace=True, errors='ignore')\n",
    "\n",
    "# Append missing rows to A1\n",
    "combined_df = pd.concat([df1, missing_rows], ignore_index=True)\n",
    "\n",
    "# Save the combined DataFrame back to the original A1 CSV file\n",
    "combined_df.to_csv(file1, index=False)\n",
    "\n",
    "print(f\"Missing rows from A2 have been appended to {file1}.\")"
   ]
  },
  {
   "cell_type": "code",
   "execution_count": null,
   "metadata": {},
   "outputs": [
    {
     "ename": "",
     "evalue": "",
     "output_type": "error",
     "traceback": [
      "\u001b[1;31mRunning cells with 'Python 3.11.9' requires the ipykernel package.\n",
      "\u001b[1;31mRun the following command to install 'ipykernel' into the Python environment. \n",
      "\u001b[1;31mCommand: 'c:/Users/Pranav/AppData/Local/Microsoft/WindowsApps/python3.11.exe -m pip install ipykernel -U --user --force-reinstall'"
     ]
    }
   ],
   "source": [
    "#### Add Predictions to A1\n",
    "\n",
    "# Load the CSV files\n",
    "file1 = 'notifications_inbox_A1.csv'  # Replace with your first CSV file name\n",
    "file2 = 'notifications_inbox_A2.csv'  # Replace with your second CSV file name\n",
    "\n",
    "# Read the first CSV file (A1) and the second CSV file (A2)\n",
    "df1 = pd.read_csv(file1)\n",
    "df2 = pd.read_csv(file2)\n",
    "\n",
    "# Define columns to drop\n",
    "columns_to_drop = ['FirstOccurrence', 'Count', 'RiskScore', 'LastOccurrence', 'PCAPName']\n",
    "\n",
    "# Drop unnecessary columns before merging\n",
    "df1.drop(columns=columns_to_drop, inplace=True, errors='ignore')\n",
    "df2.drop(columns=columns_to_drop, inplace=True, errors='ignore')\n",
    "\n",
    "# Create a 'predictions' column initialized to 0\n",
    "df1['predictions'] = 0\n",
    "\n",
    "# Set the value to 1 if the row in A1 is present in A2\n",
    "# Using merge to identify matching rows\n",
    "merged = df1.merge(df2, how='left', indicator=True)\n",
    "\n",
    "# Set predictions to 1 for rows present in A2\n",
    "df1['predictions'] = (merged['_merge'] == 'both').astype(int)\n",
    "\n",
    "# Save the updated DataFrame back to the original A1 CSV file\n",
    "df1.to_csv(file1, index=False)\n",
    "\n",
    "#Save A2 after dropping columns\n",
    "df2.to_csv(file2, index=False)\n",
    "\n",
    "print(f\"The 'predictions' column has been added to {file1}.\")"
   ]
  },
  {
   "cell_type": "code",
   "execution_count": 7,
   "metadata": {},
   "outputs": [
    {
     "name": "stdout",
     "output_type": "stream",
     "text": [
      "Count of predictions:\n",
      "predictions\n",
      "0    490\n",
      "1    113\n",
      "Name: count, dtype: int64\n"
     ]
    }
   ],
   "source": [
    "predictions_count = df1['predictions'].value_counts()\n",
    "\n",
    "# Print the counts\n",
    "print(\"Count of predictions:\")\n",
    "print(predictions_count)"
   ]
  },
  {
   "cell_type": "code",
   "execution_count": 22,
   "metadata": {},
   "outputs": [
    {
     "name": "stdout",
     "output_type": "stream",
     "text": [
      "The 'notifications_inbox_A2.csv' column has been dropped from notifications_inbox_A1.csv.\n"
     ]
    }
   ],
   "source": [
    "# Load the CSV file\n",
    "file1 = 'notifications_inbox_A1.csv'  # Replace with your first CSV file name\n",
    "\n",
    "# Read the first CSV file (A1)\n",
    "df1 = pd.read_csv(file1)\n",
    "\n",
    "# Drop the 'notifications_inbox_A2.csv' column\n",
    "df1.drop(columns=['notifications_inbox_A1.csv'], inplace=True, errors='ignore')\n",
    "\n",
    "# Save the updated DataFrame back to the CSV file\n",
    "df1.to_csv(file1, index=False)\n",
    "\n",
    "print(f\"The 'notifications_inbox_A2.csv' column has been dropped from {file1}.\")"
   ]
  },
  {
   "cell_type": "code",
   "execution_count": 3,
   "metadata": {},
   "outputs": [
    {
     "ename": "KeyError",
     "evalue": "'Column not found: predictions'",
     "output_type": "error",
     "traceback": [
      "\u001b[0;31m---------------------------------------------------------------------------\u001b[0m",
      "\u001b[0;31mKeyError\u001b[0m                                  Traceback (most recent call last)",
      "Cell \u001b[0;32mIn[3], line 8\u001b[0m\n\u001b[1;32m      5\u001b[0m A2 \u001b[38;5;241m=\u001b[39m pd\u001b[38;5;241m.\u001b[39mread_csv(\u001b[38;5;124m'\u001b[39m\u001b[38;5;124mfeatures.csv\u001b[39m\u001b[38;5;124m'\u001b[39m)\n\u001b[1;32m      7\u001b[0m \u001b[38;5;66;03m# Group by Packet Number and take the maximum prediction for each Packet Number\u001b[39;00m\n\u001b[0;32m----> 8\u001b[0m A1_max_predictions \u001b[38;5;241m=\u001b[39m \u001b[43mA1\u001b[49m\u001b[38;5;241;43m.\u001b[39;49m\u001b[43mgroupby\u001b[49m\u001b[43m(\u001b[49m\u001b[38;5;124;43m'\u001b[39;49m\u001b[38;5;124;43mPacket Number\u001b[39;49m\u001b[38;5;124;43m'\u001b[39;49m\u001b[43m)\u001b[49m\u001b[43m[\u001b[49m\u001b[38;5;124;43m'\u001b[39;49m\u001b[38;5;124;43mpredictions\u001b[39;49m\u001b[38;5;124;43m'\u001b[39;49m\u001b[43m]\u001b[49m\u001b[38;5;241m.\u001b[39mmax()\u001b[38;5;241m.\u001b[39mreset_index()\n\u001b[1;32m      9\u001b[0m \u001b[38;5;28mprint\u001b[39m(A1_max_predictions)\n",
      "File \u001b[0;32m~/Documents/framework/myvirenv/lib/python3.12/site-packages/pandas/core/groupby/generic.py:1951\u001b[0m, in \u001b[0;36mDataFrameGroupBy.__getitem__\u001b[0;34m(self, key)\u001b[0m\n\u001b[1;32m   1944\u001b[0m \u001b[38;5;28;01mif\u001b[39;00m \u001b[38;5;28misinstance\u001b[39m(key, \u001b[38;5;28mtuple\u001b[39m) \u001b[38;5;129;01mand\u001b[39;00m \u001b[38;5;28mlen\u001b[39m(key) \u001b[38;5;241m>\u001b[39m \u001b[38;5;241m1\u001b[39m:\n\u001b[1;32m   1945\u001b[0m     \u001b[38;5;66;03m# if len == 1, then it becomes a SeriesGroupBy and this is actually\u001b[39;00m\n\u001b[1;32m   1946\u001b[0m     \u001b[38;5;66;03m# valid syntax, so don't raise\u001b[39;00m\n\u001b[1;32m   1947\u001b[0m     \u001b[38;5;28;01mraise\u001b[39;00m \u001b[38;5;167;01mValueError\u001b[39;00m(\n\u001b[1;32m   1948\u001b[0m         \u001b[38;5;124m\"\u001b[39m\u001b[38;5;124mCannot subset columns with a tuple with more than one element. \u001b[39m\u001b[38;5;124m\"\u001b[39m\n\u001b[1;32m   1949\u001b[0m         \u001b[38;5;124m\"\u001b[39m\u001b[38;5;124mUse a list instead.\u001b[39m\u001b[38;5;124m\"\u001b[39m\n\u001b[1;32m   1950\u001b[0m     )\n\u001b[0;32m-> 1951\u001b[0m \u001b[38;5;28;01mreturn\u001b[39;00m \u001b[38;5;28;43msuper\u001b[39;49m\u001b[43m(\u001b[49m\u001b[43m)\u001b[49m\u001b[38;5;241;43m.\u001b[39;49m\u001b[38;5;21;43m__getitem__\u001b[39;49m\u001b[43m(\u001b[49m\u001b[43mkey\u001b[49m\u001b[43m)\u001b[49m\n",
      "File \u001b[0;32m~/Documents/framework/myvirenv/lib/python3.12/site-packages/pandas/core/base.py:244\u001b[0m, in \u001b[0;36mSelectionMixin.__getitem__\u001b[0;34m(self, key)\u001b[0m\n\u001b[1;32m    242\u001b[0m \u001b[38;5;28;01melse\u001b[39;00m:\n\u001b[1;32m    243\u001b[0m     \u001b[38;5;28;01mif\u001b[39;00m key \u001b[38;5;129;01mnot\u001b[39;00m \u001b[38;5;129;01min\u001b[39;00m \u001b[38;5;28mself\u001b[39m\u001b[38;5;241m.\u001b[39mobj:\n\u001b[0;32m--> 244\u001b[0m         \u001b[38;5;28;01mraise\u001b[39;00m \u001b[38;5;167;01mKeyError\u001b[39;00m(\u001b[38;5;124mf\u001b[39m\u001b[38;5;124m\"\u001b[39m\u001b[38;5;124mColumn not found: \u001b[39m\u001b[38;5;132;01m{\u001b[39;00mkey\u001b[38;5;132;01m}\u001b[39;00m\u001b[38;5;124m\"\u001b[39m)\n\u001b[1;32m    245\u001b[0m     ndim \u001b[38;5;241m=\u001b[39m \u001b[38;5;28mself\u001b[39m\u001b[38;5;241m.\u001b[39mobj[key]\u001b[38;5;241m.\u001b[39mndim\n\u001b[1;32m    246\u001b[0m     \u001b[38;5;28;01mreturn\u001b[39;00m \u001b[38;5;28mself\u001b[39m\u001b[38;5;241m.\u001b[39m_gotitem(key, ndim\u001b[38;5;241m=\u001b[39mndim)\n",
      "\u001b[0;31mKeyError\u001b[0m: 'Column not found: predictions'"
     ]
    }
   ],
   "source": [
    "import pandas as pd\n",
    "\n",
    "# Load the CSV files\n",
    "A1 = pd.read_csv('notifications_test_occurrences.csv')\n",
    "A2 = pd.read_csv('features.csv')\n",
    "\n",
    "# Group by Packet Number and take the maximum prediction for each Packet Number\n",
    "A1_max_predictions = A1.groupby('Packet Number')['predictions'].max().reset_index()\n",
    "print(A1_max_predictions)\n"
   ]
  },
  {
   "cell_type": "code",
   "execution_count": 2,
   "metadata": {},
   "outputs": [
    {
     "name": "stdout",
     "output_type": "stream",
     "text": [
      "Packet Number to Maximum Prediction Mapping:\n",
      "{1: 0, 9: 0, 26: 0, 41: 1, 44: 0, 45: 0, 48: 0, 91: 0, 93: 0, 94: 0, 95: 1, 98: 0, 109: 0, 110: 0, 113: 0, 116: 0, 120: 1, 124: 1, 127: 1, 135: 1, 162: 0, 173: 0, 176: 0, 177: 0, 178: 0, 203: 0, 209: 0, 239: 0, 263: 0, 264: 0, 270: 0, 271: 0, 290: 0, 291: 0, 292: 0, 293: 0, 328: 0, 332: 0, 936: 0, 953: 0, 1040: 0, 1118: 0, 1287: 0, 1472: 1, 1848: 0, 1912: 1, 1913: 0, 1914: 0, 1915: 0, 1920: 0, 1921: 0, 1922: 0, 1928: 0, 1943: 0, 1945: 0, 1953: 0, 1966: 0, 2131: 0, 2249: 0, 2350: 0, 2403: 0, 2407: 0, 2427: 0, 2550: 0, 2624: 0, 2631: 0, 2633: 0, 2634: 0, 2637: 0, 2638: 0, 2643: 0, 2650: 0, 2661: 0, 2673: 0, 2682: 0, 2717: 0, 2721: 0, 2722: 0, 2736: 0, 2740: 0, 2757: 0, 2765: 0, 2847: 0, 2853: 0, 2857: 0, 3249: 0, 3256: 0, 3296: 0, 11170: 0, 12324: 0, 13956: 0, 18863: 0, 18880: 0, 30946: 0, 35187: 0, 125973: 0, 125990: 0, 208951: 0, 208971: 0, 466669: 0, 535169: 0, 3100001: 1, 3100003: 1, 3100005: 0, 3102994: 1, 3102996: 1, 3103015: 1, 3103053: 1, 3103091: 1, 3103133: 1, 3103344: 1, 3103354: 1, 3104138: 0, 3104140: 0, 3106707: 0, 3626351: 1, 3626763: 1, 3626764: 1, 3632582: 1, 3633403: 1, 3635856: 1, 3635859: 1, 3672031: 1, 3684085: 1, 3684135: 1, 3684145: 1, 3684202: 1, 4477290: 1, 4477319: 1, 5447219: 1, 5447221: 1, 5447240: 1, 5447277: 1, 5449747: 1, 5566308: 1, 5566315: 1, 7973675: 1}\n"
     ]
    }
   ],
   "source": [
    "# Create a dictionary to map Packet Numbers to their maximum Predictions\n",
    "predictions_map = dict(zip(A1_max_predictions['Packet Number'], A1_max_predictions['predictions']))\n",
    "\n",
    "# Print the dictionary\n",
    "print(\"Packet Number to Maximum Prediction Mapping:\")\n",
    "print(predictions_map)"
   ]
  },
  {
   "cell_type": "code",
   "execution_count": 5,
   "metadata": {},
   "outputs": [
    {
     "name": "stdout",
     "output_type": "stream",
     "text": [
      "Predictions added to A2 and saved as A2_with_max_predictions.csv\n"
     ]
    }
   ],
   "source": [
    "# Map the maximum prediction for each Frame Number in A2 using the Packet Number from A1\n",
    "A2['Predictions'] = A2['frame.number'].map(predictions_map)\n",
    "\n",
    "# # Fill NaN values with 0 for frames that don't have corresponding packet numbers in A1\n",
    "# A2['Predictions'] = A2['Predictions'].fillna(0).astype(int)\n",
    "\n",
    "# Save the updated A2 to a new CSV file\n",
    "A2.to_csv('features_with_max_predictions.csv', index=False)\n",
    "\n",
    "print(\"Predictions added to A2 and saved as A2_with_max_predictions.csv\")"
   ]
  },
  {
   "cell_type": "code",
   "execution_count": 6,
   "metadata": {},
   "outputs": [],
   "source": [
    "import pandas as pd\n",
    "\n",
    "# Load the CSV file\n",
    "file_path = 'notifications_inbox_A1_packet_numbers.csv'\n",
    "df = pd.read_csv(file_path)\n",
    "\n",
    "# Define the ground truth function\n",
    "def assign_ground_truth(packet_number):\n",
    "    if (3102996 <= packet_number <= 3632633 or\n",
    "        4477319 <= packet_number <= 4775277 or\n",
    "        5447221 <= packet_number <= 5566315 or\n",
    "        5630397 <= packet_number <= 6238671 or\n",
    "        7932521 <= packet_number <= 8680503 or\n",
    "        9542672 <= packet_number <= 11005350 or\n",
    "        12554874 <= packet_number <= 13842792 or\n",
    "        13842803 <= packet_number <= 14595720 or\n",
    "        14646469 <= packet_number <= 16663842 or\n",
    "        16663945 <= packet_number <= 18484190):\n",
    "        return 1\n",
    "    else:\n",
    "        return 0\n",
    "\n",
    "# Apply the function to assign ground truth values\n",
    "df['ground_truth'] = df['Packet Number'].apply(assign_ground_truth)\n",
    "\n",
    "# Save the updated CSV\n",
    "output_file_path = 'notifications_inbox_packet_numbers_with_ground_truth.csv'\n",
    "df.to_csv(output_file_path, index=False)\n"
   ]
  },
  {
   "cell_type": "code",
   "execution_count": 2,
   "metadata": {},
   "outputs": [],
   "source": [
    "import pandas as pd\n",
    "\n",
    "# Read the CSV file into a DataFrame\n",
    "df = pd.read_csv('notifications_inbox_A2_packet_numbers.csv')\n",
    "\n",
    "# Filter the DataFrame to remove unwanted rows\n",
    "df = df[~df['Type'].isin(['THROUGHPUT_VARIANCE_LIMIT_EXCEEDED', 'UDP_PORT_SCAN', 'CYCLIC_MESSAGE_OUT_OF_ORDER'])]\n",
    "\n",
    "# Save the modified DataFrame back to the CSV file\n",
    "df.to_csv('notifications_inbox_A2_packet_numbers_1.csv', index=False)"
   ]
  },
  {
   "cell_type": "code",
   "execution_count": null,
   "metadata": {},
   "outputs": [],
   "source": [
    "import pandas as pd\n",
    "\n",
    "# Load the CSV file\n",
    "test_df = pd.read_csv(\"features.csv\")\n",
    "\n",
    "# Check the data type of the 'Packets' column\n",
    "print(test_df['frame.number'].dtype)\n",
    "\n",
    "# Check the data type of each element in the 'Packets' column\n",
    "for index, row in test_df.iterrows():\n",
    "    print(f\"Row {index + 1}: {type(row['frame.number'])}, Value: {row['frame.number']}\")"
   ]
  },
  {
   "cell_type": "code",
   "execution_count": null,
   "metadata": {},
   "outputs": [],
   "source": [
    "### Features_1 - 1st Occurrence\n",
    "\n",
    "# import pandas as pd\n",
    "\n",
    "# # Load the CSV files\n",
    "# features_df = pd.read_csv(\"features_1.csv\")\n",
    "# test_df = pd.read_csv(\"notifications_inbox_A1_packet_numbers.csv\")\n",
    "# a2_df = pd.read_csv(\"notifications_inbox_A2_packet_numbers_1.csv\")\n",
    "\n",
    "# # Convert packet numbers from A2.csv and test.csv to sets for faster lookup\n",
    "# a2_packets = set(a2_df['Packet Number'])\n",
    "# test_packets = set(test_df['Packet Number'])\n",
    "\n",
    "# # Create a new column 'Predictions' in features.csv with default value 0\n",
    "# features_df['Predictions'] = 0\n",
    "\n",
    "# # Find packet numbers common between A2.csv and notifications_test_occurrences.csv\n",
    "# common_packets = a2_packets.intersection(test_packets)\n",
    "\n",
    "# # Update 'Predictions' in features.csv for rows where frame.number is in the common packets\n",
    "# features_df.loc[features_df['frame.number'].isin(common_packets), 'Predictions'] = 1\n",
    "\n",
    "# # Save the updated features.csv\n",
    "# features_df.to_csv(\"dataset_1.csv\", index=False)"
   ]
  },
  {
   "cell_type": "code",
   "execution_count": null,
   "metadata": {},
   "outputs": [],
   "source": [
    "### Features_5 - 5 Occurrences\n",
    "\n",
    "# import pandas as pd\n",
    "\n",
    "# # Load the CSV files\n",
    "# features_df = pd.read_csv(\"features_5.csv\")\n",
    "# test_df = pd.read_csv(\"packets_list_5.csv\")\n",
    "# a2_df = pd.read_csv(\"notifications_inbox_A2_packet_numbers_1.csv\")\n",
    "\n",
    "# # Convert 'Packets' column from string representations to lists of integers\n",
    "# test_df['Packets'] = test_df['Packets'].apply(lambda x: list(map(int, eval(x))) if isinstance(x, str) else x)\n",
    "\n",
    "# # Convert packet number in A2.csv to a set for faster lookup\n",
    "# a2_packets = set(a2_df['Packet Number'])\n",
    "\n",
    "# # Create a new column 'predictions' in features.csv with default 0\n",
    "# features_df['Predictions'] = 0\n",
    "\n",
    "# # Process each row in test.csv\n",
    "# for _, row in test_df.iterrows():\n",
    "#     packet_list = row['Packets']\n",
    "#     if packet_list[0] in a2_packets:  # Check if the first element is in A2.csv\n",
    "#         # Update 'predictions' in features.csv for all packets in the list\n",
    "#         features_df.loc[features_df['frame.number'].isin(packet_list), 'Predictions'] = 1\n",
    "\n",
    "# # Save the updated features.csv\n",
    "# features_df.to_csv(\"dataset_5.csv\", index=False)"
   ]
  },
  {
   "cell_type": "code",
   "execution_count": null,
   "metadata": {},
   "outputs": [],
   "source": [
    "### Features_10 - 10 Occurrences\n",
    "## Append predictions to features_10.csv to get dtataset_10.csv (complete dataset with predictions for multiple occurrences packets)\n",
    "import pandas as pd\n",
    "\n",
    "# Load the CSV files\n",
    "features_df = pd.read_csv(\"features_10.csv\")\n",
    "test_df = pd.read_csv(\"packets_list_10.csv\")\n",
    "a2_df = pd.read_csv(\"notifications_inbox_A2_packet_numbers_1.csv\")\n",
    "\n",
    "# Convert 'Packets' column from string representations to lists of integers\n",
    "test_df['Packets'] = test_df['Packets'].apply(lambda x: list(map(int, eval(x))) if isinstance(x, str) else x)\n",
    "\n",
    "# Convert packet number in A2.csv to a set for faster lookup\n",
    "a2_packets = set(a2_df['Packet Number'])\n",
    "\n",
    "# Create a new column 'predictions' in features.csv with default 0\n",
    "features_df['Predictions'] = 0\n",
    "\n",
    "# Process each row in test_df\n",
    "for _, row in test_df.iterrows():\n",
    "    packet_list = row['Packets']\n",
    "    if packet_list[0] in a2_packets:  # Check if the first element is in A2.csv\n",
    "        # Update 'predictions' in features.csv for all packets in the list\n",
    "        features_df.loc[features_df['frame.number'].isin(packet_list), 'Predictions'] = 1\n",
    "\n",
    "# Save the updated features.csv\n",
    "features_df.to_csv(\"dataset_10.csv\", index=False)"
   ]
  },
  {
   "cell_type": "code",
   "execution_count": null,
   "metadata": {},
   "outputs": [
    {
     "name": "stdout",
     "output_type": "stream",
     "text": [
      "Accuracy: 0.8493\n",
      "Precision: 0.3636\n",
      "Recall: 0.9231\n"
     ]
    },
    {
     "data": {
      "image/png": "[encoded data removed]",
      "text/plain": [
       "<Figure size 600x400 with 1 Axes>"
      ]
     },
     "metadata": {},
     "output_type": "display_data"
    }
   ],
   "source": [
    "######## NIDS Metrics 1\n",
    "import pandas as pd\n",
    "import matplotlib.pyplot as plt\n",
    "import seaborn as sns\n",
    "from sklearn.metrics import accuracy_score, precision_score, recall_score, confusion_matrix\n",
    "\n",
    "# Load the CSV file\n",
    "df = pd.read_csv('dataset_1.csv')\n",
    "\n",
    "# Assuming the file has 'ground_truth' and 'prediction' columns\n",
    "y_true = df['ground_truth']\n",
    "y_pred = df['Predictions']\n",
    "\n",
    "# Calculate accuracy, precision, and recall\n",
    "accuracy = accuracy_score(y_true, y_pred)\n",
    "precision = precision_score(y_true, y_pred)\n",
    "recall = recall_score(y_true, y_pred)\n",
    "conf_matrix = confusion_matrix(y_true, y_pred)\n",
    "\n",
    "# Print the results\n",
    "print(f\"Accuracy: {accuracy:.4f}\")\n",
    "print(f\"Precision: {precision:.4f}\")\n",
    "print(f\"Recall: {recall:.4f}\")\n",
    "\n",
    "plt.figure(figsize=(6,4))\n",
    "sns.heatmap(conf_matrix, annot=True, fmt='d', cmap='Blues', cbar=False, \n",
    "            xticklabels=['Predicted 0', 'Predicted 1'], \n",
    "            yticklabels=['Actual 0', 'Actual 1'])\n",
    "plt.title('Confusion Matrix')\n",
    "plt.ylabel('Actual Label')\n",
    "plt.xlabel('Predicted Label')\n",
    "plt.show()"
   ]
  },
  {
   "cell_type": "code",
   "execution_count": null,
   "metadata": {},
   "outputs": [
    {
     "name": "stdout",
     "output_type": "stream",
     "text": [
      "Accuracy: 0.8163\n",
      "Precision: 0.4969\n",
      "Recall: 0.7864\n"
     ]
    },
    {
     "data": {
      "image/png": "[encoded data removed]",
      "text/plain": [
       "<Figure size 600x400 with 1 Axes>"
      ]
     },
     "metadata": {},
     "output_type": "display_data"
    }
   ],
   "source": [
    "######## NIDS Metrics 5\n",
    "import pandas as pd\n",
    "import matplotlib.pyplot as plt\n",
    "import seaborn as sns\n",
    "from sklearn.metrics import accuracy_score, precision_score, recall_score, confusion_matrix\n",
    "\n",
    "# Load the CSV file\n",
    "df = pd.read_csv('dataset_5.csv')\n",
    "\n",
    "# Assuming the file has 'ground_truth' and 'prediction' columns\n",
    "y_true = df['ground_truth']\n",
    "y_pred = df['Predictions']\n",
    "\n",
    "# Calculate accuracy, precision, and recall\n",
    "accuracy = accuracy_score(y_true, y_pred)\n",
    "precision = precision_score(y_true, y_pred)\n",
    "recall = recall_score(y_true, y_pred)\n",
    "conf_matrix = confusion_matrix(y_true, y_pred)\n",
    "\n",
    "# Print the results\n",
    "print(f\"Accuracy: {accuracy:.4f}\")\n",
    "print(f\"Precision: {precision:.4f}\")\n",
    "print(f\"Recall: {recall:.4f}\")\n",
    "\n",
    "plt.figure(figsize=(6,4))\n",
    "sns.heatmap(conf_matrix, annot=True, fmt='d', cmap='Blues', cbar=False, \n",
    "            xticklabels=['Predicted 0', 'Predicted 1'], \n",
    "            yticklabels=['Actual 0', 'Actual 1'])\n",
    "plt.title('Confusion Matrix')\n",
    "plt.ylabel('Actual Label')\n",
    "plt.xlabel('Predicted Label')\n",
    "plt.show()"
   ]
  },
  {
   "cell_type": "code",
   "execution_count": null,
   "metadata": {},
   "outputs": [
    {
     "name": "stdout",
     "output_type": "stream",
     "text": [
      "Accuracy: 0.7929\n",
      "Precision: 0.4861\n",
      "Recall: 0.7143\n"
     ]
    },
    {
     "data": {
      "image/png": "[encoded data removed]",
      "text/plain": [
       "<Figure size 600x400 with 1 Axes>"
      ]
     },
     "metadata": {},
     "output_type": "display_data"
    }
   ],
   "source": [
    "######## NIDS Metrics 10\n",
    "import pandas as pd\n",
    "import matplotlib.pyplot as plt\n",
    "import seaborn as sns\n",
    "from sklearn.metrics import accuracy_score, precision_score, recall_score, confusion_matrix\n",
    "\n",
    "# Load the CSV file\n",
    "df = pd.read_csv('dataset_10.csv')\n",
    "\n",
    "# Assuming the file has 'ground_truth' and 'prediction' columns\n",
    "y_true = df['ground_truth']\n",
    "y_pred = df['Predictions']\n",
    "\n",
    "# Calculate accuracy, precision, and recall\n",
    "accuracy = accuracy_score(y_true, y_pred)\n",
    "precision = precision_score(y_true, y_pred)\n",
    "recall = recall_score(y_true, y_pred)\n",
    "conf_matrix = confusion_matrix(y_true, y_pred)\n",
    "\n",
    "# Print the results\n",
    "print(f\"Accuracy: {accuracy:.4f}\")\n",
    "print(f\"Precision: {precision:.4f}\")\n",
    "print(f\"Recall: {recall:.4f}\")\n",
    "\n",
    "plt.figure(figsize=(6,4))\n",
    "sns.heatmap(conf_matrix, annot=True, fmt='d', cmap='Blues', cbar=False, \n",
    "            xticklabels=['Predicted 0', 'Predicted 1'], \n",
    "            yticklabels=['Actual 0', 'Actual 1'])\n",
    "plt.title('Confusion Matrix')\n",
    "plt.ylabel('Actual Label')\n",
    "plt.xlabel('Predicted Label')\n",
    "plt.show()"
   ]
  },
  {
   "cell_type": "code",
   "execution_count": null,
   "metadata": {},
   "outputs": [
    {
     "name": "stdout",
     "output_type": "stream",
     "text": [
      "Accuracy: 0.8264\n",
      "Precision: 0.6944\n",
      "Recall: 0.7067\n"
     ]
    },
    {
     "data": {
      "image/png": "[encoded data removed]",
      "text/plain": [
       "<Figure size 600x400 with 1 Axes>"
      ]
     },
     "metadata": {},
     "output_type": "display_data"
    }
   ],
   "source": [
    "######## NIDS Metrics 10 with updated ground truth\n",
    "import pandas as pd\n",
    "import matplotlib.pyplot as plt\n",
    "import seaborn as sns\n",
    "from sklearn.metrics import accuracy_score, precision_score, recall_score, confusion_matrix\n",
    "\n",
    "# Load the CSV file\n",
    "df = pd.read_csv('dataset_10_c.csv')\n",
    "\n",
    "# Assuming the file has 'ground_truth' and 'prediction' columns\n",
    "y_true = df['ground_truth']\n",
    "y_pred = df['Predictions']\n",
    "\n",
    "# Calculate accuracy, precision, and recall\n",
    "accuracy = accuracy_score(y_true, y_pred)\n",
    "precision = precision_score(y_true, y_pred)\n",
    "recall = recall_score(y_true, y_pred)\n",
    "conf_matrix = confusion_matrix(y_true, y_pred)\n",
    "\n",
    "# Print the results\n",
    "print(f\"Accuracy: {accuracy:.4f}\")\n",
    "print(f\"Precision: {precision:.4f}\")\n",
    "print(f\"Recall: {recall:.4f}\")\n",
    "\n",
    "plt.figure(figsize=(6,4))\n",
    "sns.heatmap(conf_matrix, annot=True, fmt='d', cmap='Blues', cbar=False, \n",
    "            xticklabels=['Predicted 0', 'Predicted 1'], \n",
    "            yticklabels=['Actual 0', 'Actual 1'])\n",
    "plt.title('Confusion Matrix')\n",
    "plt.ylabel('Actual Label')\n",
    "plt.xlabel('Predicted Label')\n",
    "plt.show()"
   ]
  },
  {
   "cell_type": "code",
   "execution_count": 17,
   "metadata": {},
   "outputs": [
    {
     "name": "stdout",
     "output_type": "stream",
     "text": [
      "Count of predictions:\n",
      "Predictions\n",
      "0    97\n",
      "1    40\n",
      "Name: count, dtype: int64\n",
      "Extracted rows saved to: zero_predictions_rows.csv\n"
     ]
    }
   ],
   "source": [
    "import pandas as pd\n",
    "\n",
    "# Load the CSV file\n",
    "file_path = 'features_with_max_predictions.csv'\n",
    "df = pd.read_csv(file_path)\n",
    "\n",
    "predictions_count = df['Predictions'].value_counts()\n",
    "\n",
    "# Print the counts\n",
    "print(\"Count of predictions:\")\n",
    "print(predictions_count)\n",
    "\n",
    "# Extract rows where the predictions column is 0\n",
    "df_zero_predictions = df[df['Predictions'] == 0]\n",
    "\n",
    "df_zero_predictions = df_zero_predictions.drop(columns=['ground_truth', 'frame.number'])\n",
    "\n",
    "# Save the extracted rows to a new CSV file\n",
    "output_file_path = 'zero_predictions_rows.csv'\n",
    "df_zero_predictions.to_csv(output_file_path, index=False)\n",
    "\n",
    "# Print the output file path\n",
    "print(f\"Extracted rows saved to: {output_file_path}\")"
   ]
  },
  {
   "cell_type": "code",
   "execution_count": 19,
   "metadata": {},
   "outputs": [
    {
     "name": "stdout",
     "output_type": "stream",
     "text": [
      "Count of predictions:\n",
      "predictions\n",
      "0    490\n",
      "1    113\n",
      "Name: count, dtype: int64\n",
      "Extracted rows saved to: A1_zero_predictions_rows.csv\n"
     ]
    }
   ],
   "source": [
    "import pandas as pd\n",
    "\n",
    "# Load the CSV file\n",
    "file_path = 'notifications_inbox_A1.csv'\n",
    "df = pd.read_csv(file_path)\n",
    "\n",
    "predictions_count = df['predictions'].value_counts()\n",
    "\n",
    "# Print the counts\n",
    "print(\"Count of predictions:\")\n",
    "print(predictions_count)\n",
    "\n",
    "# Extract rows where the predictions column is 0\n",
    "df_zero_predictions = df[df['predictions'] == 0]\n",
    "\n",
    "# df_zero_predictions = df_zero_predictions.drop(columns=['ground_truth', 'frame.number'])\n",
    "\n",
    "# Save the extracted rows to a new CSV file\n",
    "output_file_path = 'A1_zero_predictions_rows.csv'\n",
    "df_zero_predictions.to_csv(output_file_path, index=False)\n",
    "\n",
    "# Print the output file path\n",
    "print(f\"Extracted rows saved to: {output_file_path}\")"
   ]
  },
  {
   "cell_type": "code",
   "execution_count": 11,
   "metadata": {},
   "outputs": [],
   "source": [
    "dataset_10 = pd.read_csv('dataset_10.csv')\n",
    "dataset_1 = pd.read_csv('dataset_1.csv')"
   ]
  },
  {
   "cell_type": "code",
   "execution_count": 12,
   "metadata": {},
   "outputs": [],
   "source": [
    "subtracted_rows = dataset_10[dataset_10['frame.number'].isin(dataset_1['frame.number'])]"
   ]
  },
  {
   "cell_type": "code",
   "execution_count": 13,
   "metadata": {},
   "outputs": [],
   "source": [
    "dataset_train = dataset_10[~dataset_10['frame.number'].isin(dataset_1['frame.number'])]"
   ]
  },
  {
   "cell_type": "code",
   "execution_count": 14,
   "metadata": {},
   "outputs": [],
   "source": [
    "dataset_train.to_csv('dataset_train.csv', index=False)"
   ]
  },
  {
   "cell_type": "code",
   "execution_count": 15,
   "metadata": {},
   "outputs": [
    {
     "name": "stdout",
     "output_type": "stream",
     "text": [
      "Subtracted rows:\n",
      "     frame.number  protocol               function            eth.src  \\\n",
      "0               1  Profinet                      0  54:e3:b0:00:55:b7   \n",
      "1               2  Profinet                      0  ac:64:17:03:4f:c5   \n",
      "8               9      LLDP          CLIENT REPORT  54:e3:b0:00:55:b2   \n",
      "21             26      LLDP          CLIENT REPORT  54:e3:b0:00:55:b8   \n",
      "22             41  Profinet     PN DCP SET REQUEST  28:63:36:9a:90:b3   \n",
      "..            ...       ...                    ...                ...   \n",
      "710       5447323        S7              PLUS_DATA  18:db:f2:38:71:39   \n",
      "711       5449747        S7             STATE LIST  18:db:f2:38:71:39   \n",
      "731       5566308  Profinet   DCE RPC READ REQUEST  28:63:36:a9:ac:eb   \n",
      "732       5566315  Profinet  DCE RPC READ RESPONSE  00:30:de:41:df:28   \n",
      "770       7973675       ARP                REQUEST  18:db:f2:38:71:39   \n",
      "\n",
      "               eth.dst          ip.src         ip.dst tcp.flags_ack  \\\n",
      "0    ac:64:17:03:4f:c5               0              0             0   \n",
      "1    54:e3:b0:00:55:b7               0              0             0   \n",
      "8    01:80:c2:00:00:0e               0              0             0   \n",
      "21   01:80:c2:00:00:0e               0              0             0   \n",
      "22   00:a0:45:9b:55:d9               0              0             0   \n",
      "..                 ...             ...            ...           ...   \n",
      "710  28:63:36:a9:ac:eb  172.16.106.199  172.16.106.12          True   \n",
      "711  28:63:36:a9:ac:eb  172.16.106.199  172.16.106.12          True   \n",
      "731  00:30:de:41:df:28   172.16.106.12  172.16.106.22             0   \n",
      "732  28:63:36:a9:ac:eb   172.16.106.22  172.16.106.12             0   \n",
      "770  28:63:36:a9:de:e6               0              0             0   \n",
      "\n",
      "    tcp.flags_fin tcp.flags_reset  ... tcp.dstport  tcp.srcport  udp.checksum  \\\n",
      "0               0               0  ...           0            0             0   \n",
      "1               0               0  ...           0            0             0   \n",
      "8               0               0  ...           0            0             0   \n",
      "21              0               0  ...           0            0             0   \n",
      "22              0               0  ...           0            0             0   \n",
      "..            ...             ...  ...         ...          ...           ...   \n",
      "710         False           False  ...         102        53382             0   \n",
      "711         False           False  ...         102        53382             0   \n",
      "731             0               0  ...           0            0        0x2fad   \n",
      "732             0               0  ...           0            0        0x528e   \n",
      "770             0               0  ...           0            0             0   \n",
      "\n",
      "    udp.dstport udp.length                                        udp.payload  \\\n",
      "0             0          0                                                  0   \n",
      "1             0          0                                                  0   \n",
      "8             0          0                                                  0   \n",
      "21            0          0                                                  0   \n",
      "22            0          0                                                  0   \n",
      "..          ...        ...                                                ...   \n",
      "710           0          0                                                  0   \n",
      "711           0          0                                                  0   \n",
      "731       49152        172  04:00:20:00:10:00:00:00:00:00:a0:de:97:6c:d1:1...   \n",
      "732       49155        188  04:02:28:00:10:00:00:00:00:00:a0:de:97:6c:d1:1...   \n",
      "770           0          0                                                  0   \n",
      "\n",
      "    udp.srcport  pn_rt.cycle_counter  ground_truth  Predictions  \n",
      "0             0                48288             0            0  \n",
      "1             0                 4704             0            0  \n",
      "8             0                    0             0            0  \n",
      "21            0                    0             0            0  \n",
      "22            0                    0             0            0  \n",
      "..          ...                  ...           ...          ...  \n",
      "710           0                    0             0            1  \n",
      "711           0                    0             0            1  \n",
      "731       49155                    0             0            1  \n",
      "732       49152                    0             0            1  \n",
      "770           0                    0             1            1  \n",
      "\n",
      "[146 rows x 33 columns]\n"
     ]
    }
   ],
   "source": [
    "print(\"Subtracted rows:\")\n",
    "print(subtracted_rows)"
   ]
  },
  {
   "cell_type": "code",
   "execution_count": 3,
   "metadata": {},
   "outputs": [],
   "source": [
    "# Update ground truth\n",
    "import pandas as pd\n",
    "\n",
    "# Load the CSV file\n",
    "file_path = 'dataset_10.csv'\n",
    "df = pd.read_csv(file_path)\n",
    "\n",
    "# Define the ground truth function\n",
    "def assign_ground_truth(packet_number):\n",
    "    if (3102994 <= packet_number <= 3632633 or\n",
    "        4477319 <= packet_number <= 4775277 or\n",
    "        5447219 <= packet_number <= 5566315 or\n",
    "        5630397 <= packet_number <= 6238671 or\n",
    "        6278770 <= packet_number <= 6278787 or\n",
    "        7932510 <= packet_number <= 8680522 or\n",
    "        9542662 <= packet_number <= 11005378 or\n",
    "        12554864 <= packet_number <= 13842792 or\n",
    "        13842803 <= packet_number <= 14595720 or\n",
    "        14646469 <= packet_number <= 16663842 or\n",
    "        16663945 <= packet_number <= 18484190):\n",
    "        return 1\n",
    "    else:\n",
    "        return 0\n",
    "\n",
    "# Apply the function to assign ground truth values\n",
    "df['ground_truth'] = df['frame.number'].apply(assign_ground_truth)\n",
    "\n",
    "# Save the updated CSV\n",
    "output_file_path = 'dataset_10.csv'\n",
    "df.to_csv(output_file_path, index=False)"
   ]
  },
  {
   "cell_type": "code",
   "execution_count": null,
   "metadata": {},
   "outputs": [
    {
     "name": "stdout",
     "output_type": "stream",
     "text": [
      "Extracted packets saved in eval.pcap\n"
     ]
    }
   ],
   "source": [
    "# Create eval.pcap from dataset_eval\n",
    "csv_file = \"dataset_eval.csv\"\n",
    "pcap_file = \"filtered_attack.pcap\"\n",
    "output_pcap = \"eval.pcap\"\n",
    "\n",
    "# Load frame numbers from CSV\n",
    "df_pcap = pd.read_csv(csv_file)\n",
    "frame_numbers = df_pcap[\"frame.number\"].astype(str).tolist()\n",
    "\n",
    "# Get the last frame number\n",
    "end_frame = frame_numbers[-1]\n",
    "# print(f\"Last frame number: {end_frame}\")\n",
    "\n",
    "# Create display filter for Wireshark\n",
    "frame_filter = \" || \".join(f\"frame.number == {fn}\" for fn in frame_numbers)\n",
    "# print(len(frame_numbers))\n",
    "\n",
    "# Use tshark to extract packets\n",
    "command = [\n",
    "    \"tshark\", \"-r\", pcap_file, \"-Y\", frame_filter, \"-w\", output_pcap\n",
    "]\n",
    "subprocess.run(command)\n",
    "\n",
    "print(f\"Extracted packets saved in {output_pcap}\")"
   ]
  },
  {
   "cell_type": "code",
   "execution_count": null,
   "metadata": {},
   "outputs": [],
   "source": [
    "## Get predictions for the perturbations.csv\n",
    "\n",
    "import pandas as pd\n",
    "\n",
    "# Load the CSV files\n",
    "notifications_df = pd.read_csv('notifications_inbox_perturbations_packet_numbers_after_noti_removal.csv')\n",
    "perturbations_df = pd.read_csv('perturbations_2.csv')\n",
    "\n",
    "# Get the 'Packet Number' values from notifications_inbox_perturbations.csv\n",
    "packet_numbers = notifications_df['Packet Number'].tolist()\n",
    "\n",
    "perturbations_df[\"Predictions_2\"] = 0\n",
    "\n",
    "# Set 'predictions' column to 1 for matching packet numbers in perturbations.csv\n",
    "# perturbations_df.loc[perturbations_df.index.isin(packet_numbers), 'Predictions_2'] = 1\n",
    "\n",
    "perturbations_df.loc[perturbations_df.index.isin([num - 1 for num in packet_numbers]), 'Predictions_2'] = 1\n",
    "\n",
    "# Save the modified perturbations.csv\n",
    "perturbations_df.to_csv('perturbations_2.csv', index=False)"
   ]
  },
  {
   "cell_type": "code",
   "execution_count": 3,
   "metadata": {},
   "outputs": [
    {
     "name": "stdout",
     "output_type": "stream",
     "text": [
      "Total Columns: 33\n",
      "Count of 0: 123 (84.25%)\n",
      "Count of 1: 23 (15.75%)\n"
     ]
    }
   ],
   "source": [
    "# get the attack and normal data percentage from the dataset\n",
    "import pandas as pd\n",
    "\n",
    "# Load the dataset\n",
    "df_count = pd.read_csv(\"dataset_eval.csv\")\n",
    "\n",
    "# Count occurrences of 0 and 1 in the ground_truth column\n",
    "counts = df_count[\"ground_truth\"].value_counts()\n",
    "\n",
    "total = len(df_count)\n",
    "total_columns = len(df_count.columns)\n",
    "\n",
    "# Print results\n",
    "count_0 = counts.get(0, 0)\n",
    "count_1 = counts.get(1, 0)\n",
    "\n",
    "percentage_0 = (count_0 / total) * 100\n",
    "percentage_1 = (count_1 / total) * 100\n",
    "\n",
    "print(f\"Total Columns: {total_columns}\")\n",
    "print(f\"Count of 0: {count_0} ({percentage_0:.2f}%)\")\n",
    "print(f\"Count of 1: {count_1} ({percentage_1:.2f}%)\")\n"
   ]
  },
  {
   "cell_type": "code",
   "execution_count": 4,
   "metadata": {},
   "outputs": [
    {
     "name": "stdout",
     "output_type": "stream",
     "text": [
      "Extraction complete. Saved as 'Notifications_Avoided.csv'.\n"
     ]
    }
   ],
   "source": [
    "import pandas as pd\n",
    "\n",
    "# Load CSV files\n",
    "A1 = pd.read_csv(\"notifications_inbox_eval_packet_numbers_after_noti_removal.csv\")\n",
    "A2 = pd.read_csv(\"notifications_inbox_perturbations_packet_numbers_after_noti_removal.csv\")\n",
    "\n",
    "# Merge with indicator to find differences\n",
    "diff = A1.merge(A2, how=\"left\", indicator=True)\n",
    "\n",
    "# Extract rows only in A1\n",
    "A1_not_in_A2 = diff[diff[\"_merge\"] == \"left_only\"].drop(columns=[\"_merge\"])\n",
    "\n",
    "# Save the result\n",
    "A1_not_in_A2.to_csv(\"Notifications_Avoided.csv\", index=False)\n",
    "\n",
    "print(\"Extraction complete. Saved as 'Notifications_Avoided.csv'.\")"
   ]
  }
 ],
 "metadata": {
  "kernelspec": {
   "display_name": "Python 3",
   "language": "python",
   "name": "python3"
  },
  "language_info": {
   "codemirror_mode": {
    "name": "ipython",
    "version": 3
   },
   "file_extension": ".py",
   "mimetype": "text/x-python",
   "name": "python",
   "nbconvert_exporter": "python",
   "pygments_lexer": "ipython3",
   "version": "3.10.6"
  }
 },
 "nbformat": 4,
 "nbformat_minor": 2
}
